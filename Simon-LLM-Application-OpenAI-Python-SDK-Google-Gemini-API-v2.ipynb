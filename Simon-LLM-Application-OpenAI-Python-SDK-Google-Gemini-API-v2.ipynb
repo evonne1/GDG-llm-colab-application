{
  "cells": [
    {
      "cell_type": "markdown",
      "metadata": {
        "id": "-QhPWE1lwZHH"
      },
      "source": [
        "# 使用 OpenAI Python SDK 來去使用 Google Gemini API\n",
        "\n",
        "Made by SimonLiu"
      ]
    },
    {
      "cell_type": "markdown",
      "metadata": {
        "id": "db29b8d4247e"
      },
      "source": [
        "本 Colab 將介紹如何透過 OpenAI 的 Python SDK 來訪問並使用 Google Gemini API。我們將一步步說明如何設定環境、安裝必要的套件，以及撰寫 Python 程式碼來調用 Gemini API，讓開發者可以簡單地與 Google 的服務進行互動。"
      ]
    },
    {
      "cell_type": "markdown",
      "metadata": {
        "id": "NNNg43Ymw54e"
      },
      "source": [
        "## 先決條件\n",
        "\n",
        "\n",
        "您可以在 Google Colab 中運行此教程，無需額外的環境配置。\n",
        "或者，若要在本地完成此快速入門，請參閱 Gemini API 開始指南 中的 Python 指南。"
      ]
    },
    {
      "cell_type": "markdown",
      "metadata": {
        "id": "kHkHARdb1ZID"
      },
      "source": [
        "## Install the SDK\n",
        "\n",
        "安裝 OpenAI Python SDK - 使用 pip 安裝："
      ]
    },
    {
      "cell_type": "code",
      "execution_count": 3,
      "metadata": {
        "id": "J6Pd9SFJ1yVi"
      },
      "outputs": [],
      "source": [
        "!pip install -q -U openai"
      ]
    },
    {
      "cell_type": "markdown",
      "metadata": {
        "id": "EeMCtmx9ykyx"
      },
      "source": [
        "## 設置您的 API 密鑰\n",
        "\n",
        "若要使用 Gemini API，您需要一個 API 密鑰。如果您還沒有密鑰，可以在 Google AI Studio 中創建一個密鑰。\n",
        "\n",
        "<a class=\"button\" href=\"https://aistudio.google.com/app/apikey\" target=\"_blank\" rel=\"noopener noreferrer\">Get an API key</a>\n",
        "\n",
        "\n",
        "在 Colab 中，將密鑰添加到左側面板中的 \"🔑\" 秘密管理器。將其命名為 GOOGLE_API_KEY。然後將密鑰傳遞給 SDK："
      ]
    },
    {
      "cell_type": "code",
      "execution_count": 9,
      "metadata": {
        "id": "HTiaTu6O1LRC"
      },
      "outputs": [],
      "source": [
        "from google.colab import userdata\n",
        "import google.generativeai as genai #add this line too, if missing.\n",
        "\n",
        "GOOGLE_API_KEY=userdata.get('GOOGLE_API_KEY')"
      ]
    },
    {
      "cell_type": "markdown",
      "metadata": {
        "id": "nXxypzJH4MUl"
      },
      "source": [
        "## 生成文本\n"
      ]
    },
    {
      "cell_type": "code",
      "execution_count": 10,
      "metadata": {
        "colab": {
          "base_uri": "https://localhost:8080/"
        },
        "id": "j51mcrLD4Y2W",
        "outputId": "1b7d4f17-02d7-427c-c6ee-f7687f706ad3"
      },
      "outputs": [
        {
          "output_type": "stream",
          "name": "stdout",
          "text": [
            "您好！我是一個大型語言模型，由 Google 訓練。我能夠用多種語言與人互動，例如撰寫不同的創意文本格式（例如詩歌、代碼、腳本、音樂劇、電子郵件、信件等），並盡力回答您的問題，即使問題很複雜。\n",
            "\n",
            "我的知識範圍廣泛，涵蓋了許多領域，但我仍在不斷學習中。我會盡我所能提供準確且有用的資訊，但請記住，我不是萬能的，我的回答可能並不總是完美無缺。如果您發現任何錯誤或不準確之處，請告訴我，以便我能夠持續改進。\n",
            "\n",
            "很高興能為您服務！請儘管提問。\n",
            "\n"
          ]
        }
      ],
      "source": [
        "from openai import OpenAI\n",
        "\n",
        "client = OpenAI(\n",
        "    api_key=GOOGLE_API_KEY,\n",
        "    base_url=\"https://generativelanguage.googleapis.com/v1beta/\"\n",
        ")\n",
        "\n",
        "response = client.chat.completions.create(\n",
        "    model=\"gemini-1.5-flash\",\n",
        "    n=1,\n",
        "    messages=[\n",
        "        {\"role\": \"system\", \"content\": \"You are a helpful assistant.\"},\n",
        "        {\n",
        "            \"role\": \"user\",\n",
        "            \"content\": \"請使用繁體中文介紹你自己。\"\n",
        "        }\n",
        "    ]\n",
        ")\n",
        "\n",
        "print(response.choices[0].message.content)"
      ]
    },
    {
      "cell_type": "markdown",
      "metadata": {
        "id": "zUUAQS9u4biH",
        "jp-MarkdownHeadingCollapsed": true,
        "tags": []
      },
      "source": [
        "## 相關資訊\n",
        "\n",
        "- [Simon Liu 文章](https://medium.com/@simon3458/lab-openai-python-sdk-google-gemini-api-30710fa54b48)\n",
        "- [Google 官方部落格資訊](https://developers.googleblog.com/en/gemini-is-now-accessible-from-the-openai-library/)"
      ]
    }
  ],
  "metadata": {
    "colab": {
      "provenance": []
    },
    "kernelspec": {
      "display_name": "conda_python3",
      "language": "python",
      "name": "conda_python3"
    },
    "language_info": {
      "codemirror_mode": {
        "name": "ipython",
        "version": 3
      },
      "file_extension": ".py",
      "mimetype": "text/x-python",
      "name": "python",
      "nbconvert_exporter": "python",
      "pygments_lexer": "ipython3",
      "version": "3.10.15"
    }
  },
  "nbformat": 4,
  "nbformat_minor": 0
}